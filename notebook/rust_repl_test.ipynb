{
 "cells": [
  {
   "cell_type": "markdown",
   "id": "a3d209ba",
   "metadata": {},
   "source": [
    "# Rust in the Repl\n",
    "\n",
    "- Let's play with [rust](https://www.rust-lang.org/) in a repl."
   ]
  },
  {
   "cell_type": "markdown",
   "id": "ee0a8ba4",
   "metadata": {},
   "source": [
    "## evcxr & Jupyter\n",
    "\n",
    "- We are using [evcxr](https://github.com/google/evcxr/blob/main/evcxr_jupyter/README.md) for Jupyter.\n",
    "- It seems cool\n",
    "\n",
    "## Hello world\n",
    "\n",
    "let's start with the hello world!!!"
   ]
  },
  {
   "cell_type": "code",
   "execution_count": 3,
   "id": "94f7de43",
   "metadata": {},
   "outputs": [
    {
     "name": "stdout",
     "output_type": "stream",
     "text": [
      "Hello world!\n"
     ]
    }
   ],
   "source": [
    "println!(\"Hello world!\");"
   ]
  },
  {
   "cell_type": "markdown",
   "id": "e54caac8",
   "metadata": {},
   "source": [
    "## Using with types\n",
    "\n",
    "- We can create an array of i32 called **xs**"
   ]
  },
  {
   "cell_type": "code",
   "execution_count": 4,
   "id": "11af62d3",
   "metadata": {},
   "outputs": [],
   "source": [
    "let xs: [i32; 5] = [1, 2, 3, 4, 5];"
   ]
  },
  {
   "cell_type": "markdown",
   "id": "171071e3",
   "metadata": {},
   "source": [
    "- Let's create a function called *print_type_of* that returns the type of what is given as a parameter"
   ]
  },
  {
   "cell_type": "code",
   "execution_count": 5,
   "id": "3785c350",
   "metadata": {},
   "outputs": [],
   "source": [
    "fn print_type_of<T>(_: &T) {\n",
    "    println!(\"{}\", std::any::type_name::<T>())\n",
    "}"
   ]
  },
  {
   "cell_type": "markdown",
   "id": "b2944359",
   "metadata": {},
   "source": [
    "- And we can call it on our **xs** type"
   ]
  },
  {
   "cell_type": "code",
   "execution_count": 6,
   "id": "d8131976",
   "metadata": {},
   "outputs": [
    {
     "name": "stdout",
     "output_type": "stream",
     "text": [
      "[i32; 5]\n"
     ]
    }
   ],
   "source": [
    "print_type_of(&xs);"
   ]
  },
  {
   "cell_type": "code",
   "execution_count": null,
   "id": "d597e877",
   "metadata": {},
   "outputs": [],
   "source": []
  }
 ],
 "metadata": {
  "kernelspec": {
   "display_name": "Rust",
   "language": "rust",
   "name": "rust"
  },
  "language_info": {
   "codemirror_mode": "rust",
   "file_extension": ".rs",
   "mimetype": "text/rust",
   "name": "Rust",
   "pygment_lexer": "rust",
   "version": ""
  }
 },
 "nbformat": 4,
 "nbformat_minor": 5
}
